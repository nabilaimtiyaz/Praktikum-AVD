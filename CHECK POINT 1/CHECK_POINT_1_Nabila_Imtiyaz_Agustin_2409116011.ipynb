{
  "nbformat": 4,
  "nbformat_minor": 0,
  "metadata": {
    "colab": {
      "provenance": [],
      "authorship_tag": "ABX9TyMlpJDaFOWndMl41XpzWZQH",
      "include_colab_link": true
    },
    "kernelspec": {
      "name": "python3",
      "display_name": "Python 3"
    },
    "language_info": {
      "name": "python"
    }
  },
  "cells": [
    {
      "cell_type": "markdown",
      "metadata": {
        "id": "view-in-github",
        "colab_type": "text"
      },
      "source": [
        "<a href=\"https://colab.research.google.com/github/nabilaimtiyaz/Praktikum-AVD-Business-Understanding/blob/main/CHECK_POINT_1_Nabila_Imtiyaz_Agustin_2409116011.ipynb\" target=\"_parent\"><img src=\"https://colab.research.google.com/assets/colab-badge.svg\" alt=\"Open In Colab\"/></a>"
      ]
    },
    {
      "cell_type": "markdown",
      "source": [
        "# Praktikum Analitik dan Visualisasi Data\n",
        "\n",
        "**Nama**  : Nabila Imtiyaz Agustin\n",
        "\n",
        "**NIM**   : 2409116011\n",
        "\n",
        "**Kelas** : A 2024\n",
        "\n",
        "**Tema**  : Viewership Patterns: Analyze which leagues have the largest fan bases and where these are located geographically."
      ],
      "metadata": {
        "id": "y9QWnjA2iyfD"
      }
    },
    {
      "cell_type": "markdown",
      "source": [
        "# BUSINESS UNDERSTANDING"
      ],
      "metadata": {
        "id": "ToDGHrg5aD-b"
      }
    },
    {
      "cell_type": "markdown",
      "source": [
        "# Business Objective"
      ],
      "metadata": {
        "id": "kXvnHvE-kVcN"
      }
    },
    {
      "cell_type": "markdown",
      "source": [
        "Tujuan dilakukannya proyek ini adalah untuk menentukan pola jumlah penonton (*viewership patterns*) agar dapat mengetahui liga olahraga yang mana yang memiliki basis penggemar terbesar dan bagaimana pengaruh distribusi geografisnya. Hal ini meliputi identifikasi liga dengan basis penggemar terbesar, menganalisis distribusi geografis dari basis penggemar liga tersebut.\n",
        "Proyek ini juga bertujuan untuk membantu memberikan wawasan bagi sponsor dan pengiklan untuk menjangkau penonton yang tepat dengan cara yang lebih efektif, membantu dalam merancang strategi sponsor, penjualan hak siar, perluasan pasar, atau promosi liga, serta membantu media menyesuaikan tayangan mereka di berbagai wilayah."
      ],
      "metadata": {
        "id": "OiFzgh9okdku"
      }
    },
    {
      "cell_type": "markdown",
      "source": [
        "# Assess Situation"
      ],
      "metadata": {
        "id": "vRISAK2mkxDn"
      }
    },
    {
      "cell_type": "markdown",
      "source": [
        "Situasi bisnis yang mendasari analisis ini adalah meningkatnya persaingan antar liga olahraga dalam menarik penonton dan memperoleh pendapatan dari hak siar, *sponsorship*, serta pemasaran global. Dengan memahami pola *viewership*, liga dan pihak-pihak yang memiliki kepentingan dapat mengidentifikasi pasar dengan memaksimalkan strategi siaran, serta menyesuaikan pendekatan pemasaran agar lebih efektif dalam menjangkau penonton yang lebih luas."
      ],
      "metadata": {
        "id": "_y3nyQoWk35a"
      }
    },
    {
      "cell_type": "markdown",
      "source": [
        "# Data Mining Goals"
      ],
      "metadata": {
        "id": "JIkDHdtbmUEG"
      }
    },
    {
      "cell_type": "markdown",
      "source": [
        "Menentukan liga dengan jumlah *viewership* tertinggi berdasarkan kolom *Viewership,* lalu mengelompokkan liga berdasarkan *Country* untuk melihat banyaknya penonton dari geografisnya. Selanjutnya yaitu mengidentifikasi tren *viewership* berdasarkan tahun pendirian liga *Founded Year*, apakah liga yang lebih lama berdirinya memiliki penggemar yang lebih besar. Agar dapat membantu pihak terkait dalam industri olahraga untuk merancang strategi promosi dan pengembangan liga berdasarkan jumlah serta lokasi penonton di berbagai daerah."
      ],
      "metadata": {
        "id": "wjZ1FqsemXiy"
      }
    },
    {
      "cell_type": "markdown",
      "source": [
        "# Project Plan"
      ],
      "metadata": {
        "id": "oIJCUEPVm7Wr"
      }
    },
    {
      "cell_type": "markdown",
      "source": [
        "Dalam proyek ini, langkah-langkah yang akan dilakukan ialah pengumpulan dan pemahaman data tentang liga olahraga terkaya di dunia, membersihkan serta memproses data agar bisa untuk dianalisis, lalu melakukan analisis untuk mengidentifikasi liga dengan jumlah penonton terbanyak serta distribusi geografisnya. Selanjutnya, tren *viewership* akan diteliti berdasarkan tahun berdirinya liga untuk melihat apakah liga yang lebih lama berdiri memiliki basis penggemar yang lebih besar. Hasil analisis ini akan digunakan untuk memberikan wawasan bagi pihak sponsor, pengiklan, serta media dalam merancang strategi pemasaran, hak siar, dan ekspansi pasar secara lebih efektif."
      ],
      "metadata": {
        "id": "KErmX56xzEOc"
      }
    }
  ]
}